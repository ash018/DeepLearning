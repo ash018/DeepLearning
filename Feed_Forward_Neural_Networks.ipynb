{
 "cells": [
  {
   "cell_type": "markdown",
   "metadata": {},
   "source": [
    "## A 2-Layer Neural Network for Regression"
   ]
  },
  {
   "cell_type": "code",
   "execution_count": 3,
   "metadata": {
    "collapsed": true
   },
   "outputs": [],
   "source": [
    "%matplotlib inline\n",
    "import autograd.numpy as np\n",
    "import autograd.numpy.random as npr\n",
    "from autograd import grad\n",
    "import sklearn.metrics\n",
    "import pylab"
   ]
  },
  {
   "cell_type": "markdown",
   "metadata": {},
   "source": [
    "## Autograd\n",
    "\n",
    "Autograd can automatically differentiate native Python and Numpy code. It supports reverse-mode differentiation (a.k.a. backpropagation), which means it can efficiently take gradients of scalar-valued functions with respect to array-valued arguments, as well as forward-mode differentiation, and the two can be composed arbitrarily.\n",
    "\n",
    "Example use:\n",
    "```python\n",
    " import autograd.numpy as np  # Thinly-wrapped numpy\n",
    " from autograd import grad    # The only autograd function you may ever need\n",
    "\n",
    " def tanh(x):                 # Define a function\n",
    "...  y = np.exp(-2.0 * x)\n",
    "...  return (1.0 - y) / (1.0 + y)\n",
    "...\n",
    " grad_tanh = grad(tanh)       # Obtain its gradient function\n",
    " grad_tanh(1.0)               # Evaluate the gradient at x = 1.0\n",
    "0.41997434161402603\n",
    "(tanh(1.0001) - tanh(0.9999)) / 0.0002  # Compare to finite differences\n",
    "0.41997434264973155\n",
    "```"
   ]
  },
  {
   "cell_type": "code",
   "execution_count": 8,
   "metadata": {},
   "outputs": [
    {
     "name": "stdout",
     "output_type": "stream",
     "text": [
      "One Row\n",
      "[ 0.17257431 -1.04767377 -0.54143469 -0.82132566  0.64475603  0.1419569\n",
      " -0.91432063 -0.30548043  0.0810025  -0.76921707 -0.44540706  0.07045258\n",
      " -0.70862966  1.19159356 -0.33961219  0.30830871  1.24501949  0.51356289\n",
      " -0.20424774 -0.3429467   0.62065162  1.2798588   0.19450959 -0.4387824\n",
      " -0.40988305 -0.14703463 -0.19115092 -0.94947835  0.54487834 -0.02677075\n",
      "  2.53824151 -2.36767902  0.7680306  -1.20723286 -0.26315795 -0.2123482\n",
      " -1.37953266  1.99352876 -0.6336639   0.01899886  0.27700247  0.96243689\n",
      " -0.65639311  1.72503871  0.94212423  0.80433369  0.24583995  0.04315721\n",
      "  1.08297184  0.06655019 -1.13882274  0.61979876 -1.3749148   0.76732816\n",
      " -0.36197015 -1.41883552 -0.82912458 -0.13799122  0.04081004 -0.48318681\n",
      " -0.31161327 -0.13038294  0.60588458  1.25600827  1.16357838  1.58501833\n",
      " -3.07475174 -0.43900115  0.72364583 -0.51213745 -0.24130146 -0.6156544\n",
      " -0.31394585 -1.34436895 -0.69787524 -0.61248681  0.5968869   1.16625581\n",
      "  1.1282038   1.24099492  1.90159973  0.77332214  0.14318338 -1.41012984\n",
      "  0.18409795  1.52595417 -1.38102064 -1.84538455  0.81494323 -0.50359521\n",
      " -1.37421571  0.16137959  0.2499834  -2.34704029 -1.05491894 -1.01822962\n",
      "  0.95002194 -0.11358491  0.51040831  0.63438672]\n"
     ]
    }
   ],
   "source": [
    "#Generate Dataset\n",
    "examples = 1000\n",
    "features = 100\n",
    "\n",
    "D = (npr.randn(examples,features), npr.randn(examples))\n",
    "print('One Row')\n",
    "print(D[0][0])"
   ]
  },
  {
   "cell_type": "code",
   "execution_count": 14,
   "metadata": {
    "collapsed": true
   },
   "outputs": [],
   "source": [
    "#Specify the Network\n",
    "layer1_units = 10\n",
    "layer2_units = 1\n",
    "w1 = npr.rand(features,layer1_units)\n",
    "b1 = npr.rand(layer1_units)\n",
    "w2 = npr.randn(layer1_units,layer2_units)\n",
    "b2 = 0.0\n",
    "theta = (w1,b1,w2,b2)"
   ]
  },
  {
   "cell_type": "code",
   "execution_count": 15,
   "metadata": {
    "collapsed": true
   },
   "outputs": [],
   "source": [
    "#define loss function\n",
    "def squared_loss(y,y_hat):\n",
    "    return np.dot((y-y_hat),(y-y_hat))\n",
    "\n",
    "#Output Layer\n",
    "def binary_cross_entropy(y,y_hat):\n",
    "    return np.sum(-((y * np.log(y_hat)) + ((1-y) * np.log(1-y_hat))))\n",
    "\n",
    "#Wrapper Around the neural network\n",
    "def neural_network(x,theta):\n",
    "    w1, b1, w2, b2 = theta\n",
    "    return np.tanh(np.dot((np.tanh(np.dot(x,w1) + b1)), w2) + b2)\n",
    "\n",
    "#Wrapper around the objective function to be optimised\n",
    "def objective(theta,idx):\n",
    "    return squared_loss(D[1][idx],neural_network(D[0][idx],theta))\n",
    "\n",
    "#Update\n",
    "def update_theta(theta,delta,alpha):\n",
    "    w1, b1, w2, b2 = theta\n",
    "    w1_delta, b1_delta, w2_delta, b2_delta = delta\n",
    "    w1_new = w1 - alpha * w1_delta\n",
    "    b1_new = b1 - alpha * b1_delta\n",
    "    w2_new = w2 - alpha * w2_delta\n",
    "    b2_new = b2 - alpha * b2_delta\n",
    "    new_theta = (w1_new,b1_new,w2_new,b2_new)\n",
    "    return new_theta\n"
   ]
  },
  {
   "cell_type": "code",
   "execution_count": 16,
   "metadata": {
    "collapsed": true
   },
   "outputs": [],
   "source": [
    "#Compute Gradient\n",
    "grad_objective = grad(objective)"
   ]
  },
  {
   "cell_type": "code",
   "execution_count": 22,
   "metadata": {},
   "outputs": [
    {
     "name": "stdout",
     "output_type": "stream",
     "text": [
      "RMSE before training:  0.3771938500280085\n",
      "RMSE After Training:  0.36252718008861995\n"
     ]
    },
    {
     "data": {
      "image/png": "[encoded data removed]",
      "text/plain": [
       "<matplotlib.figure.Figure at 0x1c45adb5780>"
      ]
     },
     "metadata": {},
     "output_type": "display_data"
    }
   ],
   "source": [
    "#Train the Neural Network\n",
    "epochs = 10\n",
    "print(\"RMSE before training: \", sklearn.metrics.mean_squared_error(D[1],neural_network(D[0],theta)))\n",
    "rmse = []\n",
    "for i in range(0,epochs):\n",
    "    for j in range(0,examples):\n",
    "        delta = grad_objective(theta,j)\n",
    "        theta = update_theta(theta,delta,0.01)\n",
    "        rmse.append(sklearn.metrics.mean_squared_error(D[1],neural_network(D[0],theta)))\n",
    "        pylab.plot(rmse)\n",
    "    \n",
    "print(\"RMSE After Training: \", sklearn.metrics.mean_squared_error(D[1],neural_network(D[0],theta)))\n",
    "pylab.show()"
   ]
  },
  {
   "cell_type": "code",
   "execution_count": null,
   "metadata": {
    "collapsed": true
   },
   "outputs": [],
   "source": []
  }
 ],
 "metadata": {
  "kernelspec": {
   "display_name": "Python 3",
   "language": "python",
   "name": "python3"
  },
  "language_info": {
   "codemirror_mode": {
    "name": "ipython",
    "version": 3
   },
   "file_extension": ".py",
   "mimetype": "text/x-python",
   "name": "python",
   "nbconvert_exporter": "python",
   "pygments_lexer": "ipython3",
   "version": "3.6.1"
  }
 },
 "nbformat": 4,
 "nbformat_minor": 2
}
